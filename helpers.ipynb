{
 "cells": [
  {
   "cell_type": "code",
   "execution_count": 20,
   "id": "57695272-3077-4e45-8c81-f983fb8983ad",
   "metadata": {},
   "outputs": [
    {
     "name": "stdout",
     "output_type": "stream",
     "text": [
      "Overwriting db_utils.py\n"
     ]
    }
   ],
   "source": [
    "%%writefile db_utils.py\n",
    "\n",
    "#Import the libraries\n",
    "from sqlalchemy import create_engine\n",
    "import pandas as pd\n",
    "import os\n",
    "from dotenv import load_dotenv \n",
    "from pathlib import Path\n",
    "\n",
    "# Load environment variables from .env file into os.environ\n",
    "load_dotenv()\n",
    "\n",
    "# Get credentials from .env\n",
    "user = os.getenv(\"DB_USER\")\n",
    "password = os.getenv(\"DB_PASSWORD\")\n",
    "host = os.getenv(\"DB_HOST\")\n",
    "port = os.getenv(\"DB_PORT\")\n",
    "database = os.getenv(\"DB_NAME\")\n",
    "\n",
    "\n",
    "\n",
    "# Run SQL query and return the DataFrame\n",
    "def run_query(query):\n",
    "    # Create SQL ALchemy engine\n",
    "    engine = create_engine(f\"mysql+pymysql://{user}:{password}@{host}:{port}/{database}\")\n",
    "    df = pd.read_sql(query, engine)\n",
    "    return df\n",
    "\n",
    "\n",
    "# File utils\n",
    "def load_query(filename):\n",
    "    return Path(f\"queries/{filename}\").read_text()"
   ]
  },
  {
   "cell_type": "code",
   "execution_count": null,
   "id": "9b1e714e-9c47-495e-8941-2e02b94b8863",
   "metadata": {},
   "outputs": [],
   "source": []
  },
  {
   "cell_type": "code",
   "execution_count": null,
   "id": "fcdd4018-4325-4a87-8f2f-d4e3eec606a5",
   "metadata": {},
   "outputs": [],
   "source": []
  }
 ],
 "metadata": {
  "kernelspec": {
   "display_name": "Python 3 (ipykernel)",
   "language": "python",
   "name": "python3"
  },
  "language_info": {
   "codemirror_mode": {
    "name": "ipython",
    "version": 3
   },
   "file_extension": ".py",
   "mimetype": "text/x-python",
   "name": "python",
   "nbconvert_exporter": "python",
   "pygments_lexer": "ipython3",
   "version": "3.11.7"
  }
 },
 "nbformat": 4,
 "nbformat_minor": 5
}
